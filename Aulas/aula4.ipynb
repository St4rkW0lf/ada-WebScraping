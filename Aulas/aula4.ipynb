{
 "cells": [
  {
   "cell_type": "markdown",
   "metadata": {},
   "source": [
    "## Web Scraping em sites reais com BeautifulSoup"
   ]
  },
  {
   "cell_type": "markdown",
   "metadata": {},
   "source": [
    "### Outras tags, ids e classes:\n",
    "\n",
    "#### Exemplo:\n",
    "\n",
    "```\n",
    "<!DOCTYPE html>\n",
    "<html lang=\"en\">\n",
    "<head>\n",
    "    <meta charset=\"UTF-8\">\n",
    "    <meta name=\"viewport\" content=\"width=device-width, initial-scale=1.0\">\n",
    "    <title>Exemplo de Classes, IDs e Links</title>\n",
    "    <style>\n",
    "        /* Estilo para a classe 'destaque' */\n",
    "        .destaque {\n",
    "            color: blue;\n",
    "            font-weight: bold;\n",
    "        }\n",
    "\n",
    "        /* Estilo para o ID 'paragrafo1' */\n",
    "        #paragrafo1 {\n",
    "            background-color: lightgray;\n",
    "            padding: 10px;\n",
    "        }\n",
    "    </style>\n",
    "</head>\n",
    "<body>\n",
    "    <h1>Exemplo de Classes, IDs e Links</h1>\n",
    "\n",
    "    <!-- Exemplo de uso de classes -->\n",
    "    <p>Aqui está um <span class=\"destaque\">texto em destaque</span>.</p>\n",
    "\n",
    "    <!-- Exemplo de uso de IDs -->\n",
    "    <p id=\"paragrafo1\">Este é um parágrafo com ID. Ele tem um fundo cinza claro.</p>\n",
    "\n",
    "    <!-- Exemplo de links -->\n",
    "    <p>Visite o <a href=\"https://www.example.com\">Exemplo.com</a> para mais informações.</p>\n",
    "</body>\n",
    "</html>\n",
    "```"
   ]
  },
  {
   "cell_type": "markdown",
   "metadata": {},
   "source": [
    "### Live coding web scraping em site\n",
    "#### https://www.scrapethissite.com/pages/simple/"
   ]
  },
  {
   "cell_type": "markdown",
   "metadata": {},
   "source": []
  },
  {
   "cell_type": "markdown",
   "metadata": {},
   "source": []
  }
 ],
 "metadata": {
  "kernelspec": {
   "display_name": "Python 3.10.9 64-bit",
   "language": "python",
   "name": "python3"
  },
  "language_info": {
   "name": "python",
   "version": "3.10.9"
  },
  "orig_nbformat": 4,
  "vscode": {
   "interpreter": {
    "hash": "b0fa6594d8f4cbf19f97940f81e996739fb7646882a419484c72d19e05852a7e"
   }
  }
 },
 "nbformat": 4,
 "nbformat_minor": 2
}
